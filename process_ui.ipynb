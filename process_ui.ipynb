{
 "cells": [
  {
   "cell_type": "code",
   "execution_count": 1,
   "metadata": {},
   "outputs": [
    {
     "data": {
      "application/vnd.jupyter.widget-view+json": {
       "model_id": "f93ebe57eb1f4a4e8c4556de65c20238",
       "version_major": 2,
       "version_minor": 0
      },
      "text/plain": [
       "HTML(value='\\n<style>\\n.leaflet-pane {\\n    z-index : 2 !important;\\n}\\n.leaflet-top, .leaflet-bottom {\\n    z…"
      ]
     },
     "metadata": {},
     "output_type": "display_data"
    },
    {
     "data": {
      "application/vnd.jupyter.widget-view+json": {
       "model_id": "f2fd5788321c44be8a37f195e3b5733b",
       "version_major": 2,
       "version_minor": 0
      },
      "text/plain": [
       "ResizeTrigger()"
      ]
     },
     "metadata": {},
     "output_type": "display_data"
    }
   ],
   "source": [
    "from component import io \n",
    "from component import tile\n",
    "from sepal_ui import aoi"
   ]
  },
  {
   "cell_type": "code",
   "execution_count": 2,
   "metadata": {},
   "outputs": [],
   "source": [
    "# Uncomment if you run here for debugging purposes\n",
    "#aoi_io = aoi.Aoi_io(default_asset='users/remifao/aoi_test') # a default assetId can be directly set in the constructor "
   ]
  },
  {
   "cell_type": "code",
   "execution_count": 3,
   "metadata": {},
   "outputs": [],
   "source": [
    "# define the io of your tile \n",
    "# it should be a mutable object that can be called in your tiles\n",
    "process_io = io.ProcessIo()"
   ]
  },
  {
   "cell_type": "code",
   "execution_count": 4,
   "metadata": {},
   "outputs": [],
   "source": [
    "# the result tile need to be created before the process tile \n",
    "# as it's a parameter of the processTile init function \n",
    "# be aware thatt you'll decide the display order of your tiles in the ui.ipynb notebook\n",
    "visualization_tile = tile.VisualizationTile(aoi_io,process_io)\n",
    "export_tile        = tile.ExportTile(aoi_io,process_io)"
   ]
  },
  {
   "cell_type": "code",
   "execution_count": 5,
   "metadata": {},
   "outputs": [],
   "source": [
    "# create the process tile \n",
    "process_tile = tile.ProcessTile(process_io, aoi_io,visualization_tile,export_tile)"
   ]
  },
  {
   "cell_type": "code",
   "execution_count": 6,
   "metadata": {},
   "outputs": [
    {
     "data": {
      "application/vnd.jupyter.widget-view+json": {
       "model_id": "3170f5a522d94291abbfa9636987a5c5",
       "version_major": 2,
       "version_minor": 0
      },
      "text/plain": [
       "ProcessTile(align_center=True, children=[Card(children=[Html(children=['Process tile'], tag='h2'), Flex(childr…"
      ]
     },
     "metadata": {},
     "output_type": "display_data"
    }
   ],
   "source": [
    "# this tile will only be displayed if this very notebook is launched\n",
    "# useful for debugging\n",
    "process_tile"
   ]
  },
  {
   "cell_type": "code",
   "execution_count": 7,
   "metadata": {},
   "outputs": [
    {
     "data": {
      "application/vnd.jupyter.widget-view+json": {
       "model_id": "45039700842043a1a6fa4cbdfb7ac205",
       "version_major": 2,
       "version_minor": 0
      },
      "text/plain": [
       "VisualizationTile(align_center=True, children=[Card(children=[Html(children=['Visualize results'], tag='h2'), …"
      ]
     },
     "metadata": {},
     "output_type": "display_data"
    }
   ],
   "source": [
    "# Visualization tile\n",
    "visualization_tile"
   ]
  },
  {
   "cell_type": "code",
   "execution_count": 8,
   "metadata": {},
   "outputs": [
    {
     "data": {
      "application/vnd.jupyter.widget-view+json": {
       "model_id": "059d7374c47d4ccebfe8ba5589a0a205",
       "version_major": 2,
       "version_minor": 0
      },
      "text/plain": [
       "ExportTile(align_center=True, children=[Card(children=[Html(children=['Export data'], tag='h2'), Flex(children…"
      ]
     },
     "metadata": {},
     "output_type": "display_data"
    }
   ],
   "source": [
    "# Export tile\n",
    "export_tile        "
   ]
  },
  {
   "cell_type": "code",
   "execution_count": null,
   "metadata": {},
   "outputs": [],
   "source": [
    "# to debug the io you can display it's magic __dict__ function \n",
    "# this variable will only be displayed if this very notebook is launched\n",
    "# usefull for debugging\n",
    "process_io.__dict__"
   ]
  },
  {
   "cell_type": "code",
   "execution_count": null,
   "metadata": {},
   "outputs": [],
   "source": []
  }
 ],
 "metadata": {
  "kernelspec": {
   "display_name": "Python 3",
   "language": "python",
   "name": "python3"
  },
  "language_info": {
   "codemirror_mode": {
    "name": "ipython",
    "version": 3
   },
   "file_extension": ".py",
   "mimetype": "text/x-python",
   "name": "python",
   "nbconvert_exporter": "python",
   "pygments_lexer": "ipython3",
   "version": "3.6.9"
  }
 },
 "nbformat": 4,
 "nbformat_minor": 4
}
